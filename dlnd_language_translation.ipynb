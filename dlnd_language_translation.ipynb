{
 "cells": [
  {
   "cell_type": "markdown",
   "metadata": {
    "collapsed": true
   },
   "source": [
    "# Language Translation\n",
    "In this project, you’re going to take a peek into the realm of neural network machine translation.  You’ll be training a sequence to sequence model on a dataset of English and French sentences that can translate new sentences from English to French.\n",
    "## Get the Data\n",
    "Since translating the whole language of English to French will take lots of time to train, we have provided you with a small portion of the English corpus."
   ]
  },
  {
   "cell_type": "code",
   "execution_count": 2,
   "metadata": {
    "collapsed": true
   },
   "outputs": [],
   "source": [
    "\"\"\"\n",
    "DON'T MODIFY ANYTHING IN THIS CELL\n",
    "\"\"\"\n",
    "import helper\n",
    "import problem_unittests as tests\n",
    "\n",
    "source_path = 'data/small_vocab_en'\n",
    "target_path = 'data/small_vocab_fr'\n",
    "source_text = helper.load_data(source_path)\n",
    "target_text = helper.load_data(target_path)"
   ]
  },
  {
   "cell_type": "markdown",
   "metadata": {},
   "source": [
    "## Explore the Data\n",
    "Play around with view_sentence_range to view different parts of the data."
   ]
  },
  {
   "cell_type": "code",
   "execution_count": 3,
   "metadata": {},
   "outputs": [
    {
     "name": "stdout",
     "output_type": "stream",
     "text": [
      "Dataset Stats\n",
      "Roughly the number of unique words: 227\n",
      "Number of sentences: 137861\n",
      "Average number of words in a sentence: 13.225277634719028\n",
      "\n",
      "English sentences 0 to 10:\n",
      "new jersey is sometimes quiet during autumn , and it is snowy in april .\n",
      "the united states is usually chilly during july , and it is usually freezing in november .\n",
      "california is usually quiet during march , and it is usually hot in june .\n",
      "the united states is sometimes mild during june , and it is cold in september .\n",
      "your least liked fruit is the grape , but my least liked is the apple .\n",
      "his favorite fruit is the orange , but my favorite is the grape .\n",
      "paris is relaxing during december , but it is usually chilly in july .\n",
      "new jersey is busy during spring , and it is never hot in march .\n",
      "our least liked fruit is the lemon , but my least liked is the grape .\n",
      "the united states is sometimes busy during january , and it is sometimes warm in november .\n",
      "\n",
      "French sentences 0 to 10:\n",
      "new jersey est parfois calme pendant l' automne , et il est neigeux en avril .\n",
      "les états-unis est généralement froid en juillet , et il gèle habituellement en novembre .\n",
      "california est généralement calme en mars , et il est généralement chaud en juin .\n",
      "les états-unis est parfois légère en juin , et il fait froid en septembre .\n",
      "votre moins aimé fruit est le raisin , mais mon moins aimé est la pomme .\n",
      "son fruit préféré est l'orange , mais mon préféré est le raisin .\n",
      "paris est relaxant en décembre , mais il est généralement froid en juillet .\n",
      "new jersey est occupé au printemps , et il est jamais chaude en mars .\n",
      "notre fruit est moins aimé le citron , mais mon moins aimé est le raisin .\n",
      "les états-unis est parfois occupé en janvier , et il est parfois chaud en novembre .\n"
     ]
    }
   ],
   "source": [
    "view_sentence_range = (0, 10)\n",
    "\n",
    "\"\"\"\n",
    "DON'T MODIFY ANYTHING IN THIS CELL\n",
    "\"\"\"\n",
    "import numpy as np\n",
    "\n",
    "print('Dataset Stats')\n",
    "print('Roughly the number of unique words: {}'.format(len({word: None for word in source_text.split()})))\n",
    "\n",
    "sentences = source_text.split('\\n')\n",
    "word_counts = [len(sentence.split()) for sentence in sentences]\n",
    "print('Number of sentences: {}'.format(len(sentences)))\n",
    "print('Average number of words in a sentence: {}'.format(np.average(word_counts)))\n",
    "\n",
    "print()\n",
    "print('English sentences {} to {}:'.format(*view_sentence_range))\n",
    "print('\\n'.join(source_text.split('\\n')[view_sentence_range[0]:view_sentence_range[1]]))\n",
    "print()\n",
    "print('French sentences {} to {}:'.format(*view_sentence_range))\n",
    "print('\\n'.join(target_text.split('\\n')[view_sentence_range[0]:view_sentence_range[1]]))"
   ]
  },
  {
   "cell_type": "markdown",
   "metadata": {},
   "source": [
    "## Implement Preprocessing Function\n",
    "### Text to Word Ids\n",
    "As you did with other RNNs, you must turn the text into a number so the computer can understand it. In the function `text_to_ids()`, you'll turn `source_text` and `target_text` from words to ids.  However, you need to add the `<EOS>` word id at the end of `target_text`.  This will help the neural network predict when the sentence should end.\n",
    "\n",
    "You can get the `<EOS>` word id by doing:\n",
    "```python\n",
    "target_vocab_to_int['<EOS>']\n",
    "```\n",
    "You can get other word ids using `source_vocab_to_int` and `target_vocab_to_int`."
   ]
  },
  {
   "cell_type": "code",
   "execution_count": 24,
   "metadata": {},
   "outputs": [
    {
     "name": "stdout",
     "output_type": "stream",
     "text": [
      "Tests Passed\n"
     ]
    }
   ],
   "source": [
    "def text_to_ids(source_text, target_text, source_vocab_to_int, target_vocab_to_int):\n",
    "    \"\"\"\n",
    "    Convert source and target text to proper word ids\n",
    "    :param source_text: String that contains all the source text.\n",
    "    :param target_text: String that contains all the target text.\n",
    "    :param source_vocab_to_int: Dictionary to go from the source words to an id\n",
    "    :param target_vocab_to_int: Dictionary to go from the target words to an id\n",
    "    :return: A tuple of lists (source_id_text, target_id_text)\n",
    "    \"\"\"\n",
    "    # TODO: Implement Function\n",
    "    source_id_text = []\n",
    "    target_id_text = []\n",
    "    buffer = []\n",
    "    for sent in source_text.split('\\n'):\n",
    "        for word in sent.split(): \n",
    "            buffer.append(source_vocab_to_int[word])\n",
    "        source_id_text.append(buffer)\n",
    "        buffer = []\n",
    "    \n",
    "    buffer = []\n",
    "    for sent in target_text.split('\\n'):\n",
    "        for word in sent.split(): \n",
    "            buffer.append(target_vocab_to_int[word])\n",
    "                \n",
    "        buffer.append(target_vocab_to_int['<EOS>'])\n",
    "        target_id_text.append(buffer)\n",
    "        buffer = []\n",
    "                \n",
    "    return (source_id_text, target_id_text)\n",
    "\n",
    "\"\"\"\n",
    "DON'T MODIFY ANYTHING IN THIS CELL THAT IS BELOW THIS LINE\n",
    "\"\"\"\n",
    "tests.test_text_to_ids(text_to_ids)"
   ]
  },
  {
   "cell_type": "markdown",
   "metadata": {},
   "source": [
    "### Preprocess all the data and save it\n",
    "Running the code cell below will preprocess all the data and save it to file."
   ]
  },
  {
   "cell_type": "code",
   "execution_count": 25,
   "metadata": {},
   "outputs": [],
   "source": [
    "\"\"\"\n",
    "DON'T MODIFY ANYTHING IN THIS CELL\n",
    "\"\"\"\n",
    "helper.preprocess_and_save_data(source_path, target_path, text_to_ids)"
   ]
  },
  {
   "cell_type": "markdown",
   "metadata": {},
   "source": [
    "# Check Point\n",
    "This is your first checkpoint. If you ever decide to come back to this notebook or have to restart the notebook, you can start from here. The preprocessed data has been saved to disk."
   ]
  },
  {
   "cell_type": "code",
   "execution_count": 6,
   "metadata": {
    "collapsed": true
   },
   "outputs": [],
   "source": [
    "\"\"\"\n",
    "DON'T MODIFY ANYTHING IN THIS CELL\n",
    "\"\"\"\n",
    "import numpy as np\n",
    "import helper\n",
    "import problem_unittests as tests\n",
    "\n",
    "(source_int_text, target_int_text), (source_vocab_to_int, target_vocab_to_int), _ = helper.load_preprocess()"
   ]
  },
  {
   "cell_type": "markdown",
   "metadata": {},
   "source": [
    "### Check the Version of TensorFlow and Access to GPU\n",
    "This will check to make sure you have the correct version of TensorFlow and access to a GPU"
   ]
  },
  {
   "cell_type": "code",
   "execution_count": 7,
   "metadata": {},
   "outputs": [
    {
     "name": "stdout",
     "output_type": "stream",
     "text": [
      "TensorFlow Version: 1.1.0\n",
      "Default GPU Device: /gpu:0\n"
     ]
    }
   ],
   "source": [
    "\"\"\"\n",
    "DON'T MODIFY ANYTHING IN THIS CELL\n",
    "\"\"\"\n",
    "from distutils.version import LooseVersion\n",
    "import warnings\n",
    "import tensorflow as tf\n",
    "from tensorflow.python.layers.core import Dense\n",
    "\n",
    "# Check TensorFlow Version\n",
    "assert LooseVersion(tf.__version__) >= LooseVersion('1.1'), 'Please use TensorFlow version 1.1 or newer'\n",
    "print('TensorFlow Version: {}'.format(tf.__version__))\n",
    "\n",
    "# Check for a GPU\n",
    "if not tf.test.gpu_device_name():\n",
    "    warnings.warn('No GPU found. Please use a GPU to train your neural network.')\n",
    "else:\n",
    "    print('Default GPU Device: {}'.format(tf.test.gpu_device_name()))"
   ]
  },
  {
   "cell_type": "markdown",
   "metadata": {},
   "source": [
    "## Build the Neural Network\n",
    "You'll build the components necessary to build a Sequence-to-Sequence model by implementing the following functions below:\n",
    "- `model_inputs`\n",
    "- `process_decoder_input`\n",
    "- `encoding_layer`\n",
    "- `decoding_layer_train`\n",
    "- `decoding_layer_infer`\n",
    "- `decoding_layer`\n",
    "- `seq2seq_model`\n",
    "\n",
    "### Input\n",
    "Implement the `model_inputs()` function to create TF Placeholders for the Neural Network. It should create the following placeholders:\n",
    "\n",
    "- Input text placeholder named \"input\" using the TF Placeholder name parameter with rank 2.\n",
    "- Targets placeholder with rank 2.\n",
    "- Learning rate placeholder with rank 0.\n",
    "- Keep probability placeholder named \"keep_prob\" using the TF Placeholder name parameter with rank 0.\n",
    "- Target sequence length placeholder named \"target_sequence_length\" with rank 1\n",
    "- Max target sequence length tensor named \"max_target_len\" getting its value from applying tf.reduce_max on the target_sequence_length placeholder. Rank 0.\n",
    "- Source sequence length placeholder named \"source_sequence_length\" with rank 1\n",
    "\n",
    "Return the placeholders in the following the tuple (input, targets, learning rate, keep probability, target sequence length, max target sequence length, source sequence length)"
   ]
  },
  {
   "cell_type": "code",
   "execution_count": 8,
   "metadata": {},
   "outputs": [
    {
     "name": "stdout",
     "output_type": "stream",
     "text": [
      "Tests Passed\n"
     ]
    }
   ],
   "source": [
    "def model_inputs():\n",
    "    \"\"\"\n",
    "    Create TF Placeholders for input, targets, learning rate, and lengths of source and target sequences.\n",
    "    :return: Tuple (input, targets, learning rate, keep probability, target sequence length,\n",
    "    max target sequence length, source sequence length)\n",
    "    \"\"\"\n",
    "    # TODO: Implement Function\n",
    "    inputs = tf.placeholder(tf.int32, [None, None], name='input')\n",
    "    targets = tf.placeholder(tf.int32, [None, None], name='target')\n",
    "    learning_rate = tf.placeholder(tf.float32, name='LearningRate')\n",
    "    keep_prob = tf.placeholder(tf.float32, name='keep_prob')\n",
    "    target_seq = tf.placeholder(tf.int32, [None],name='target_sequence_length')\n",
    "    max_target_len = tf.reduce_max(target_seq, name='max_target_len')\n",
    "    source_seq_len = tf.placeholder(tf.int32, [None],name='source_sequence_length')\n",
    "    \n",
    "    return inputs, targets, learning_rate, keep_prob, target_seq, max_target_len, source_seq_len\n",
    "\n",
    "\n",
    "\"\"\"\n",
    "DON'T MODIFY ANYTHING IN THIS CELL THAT IS BELOW THIS LINE\n",
    "\"\"\"\n",
    "tests.test_model_inputs(model_inputs)"
   ]
  },
  {
   "cell_type": "markdown",
   "metadata": {},
   "source": [
    "### Process Decoder Input\n",
    "Implement `process_decoder_input` by removing the last word id from each batch in `target_data` and concat the GO ID to the begining of each batch."
   ]
  },
  {
   "cell_type": "code",
   "execution_count": 9,
   "metadata": {},
   "outputs": [
    {
     "name": "stdout",
     "output_type": "stream",
     "text": [
      "Tests Passed\n"
     ]
    }
   ],
   "source": [
    "def process_decoder_input(target_data, target_vocab_to_int, batch_size):\n",
    "    \"\"\"\n",
    "    Preprocess target data for encoding\n",
    "    :param target_data: Target Placehoder\n",
    "    :param target_vocab_to_int: Dictionary to go from the target words to an id\n",
    "    :param batch_size: Batch Size\n",
    "    :return: Preprocessed target data\n",
    "    \"\"\"\n",
    "    # TODO: Implement Function\n",
    "    cut_target = tf.strided_slice(target_data, [0,0], [batch_size, -1], [1,1])\n",
    "    filler = tf.fill([batch_size, 1], target_vocab_to_int['<GO>'])\n",
    "    \n",
    "    return tf.concat([filler, cut_target], 1)\n",
    "\n",
    "\"\"\"\n",
    "DON'T MODIFY ANYTHING IN THIS CELL THAT IS BELOW THIS LINE\n",
    "\"\"\"\n",
    "tests.test_process_encoding_input(process_decoder_input)"
   ]
  },
  {
   "cell_type": "markdown",
   "metadata": {},
   "source": [
    "### Encoding\n",
    "Implement `encoding_layer()` to create a Encoder RNN layer:\n",
    " * Embed the encoder input using [`tf.contrib.layers.embed_sequence`](https://www.tensorflow.org/api_docs/python/tf/contrib/layers/embed_sequence)\n",
    " * Construct a [stacked](https://github.com/tensorflow/tensorflow/blob/6947f65a374ebf29e74bb71e36fd82760056d82c/tensorflow/docs_src/tutorials/recurrent.md#stacking-multiple-lstms) [`tf.contrib.rnn.LSTMCell`](https://www.tensorflow.org/api_docs/python/tf/contrib/rnn/LSTMCell) wrapped in a [`tf.contrib.rnn.DropoutWrapper`](https://www.tensorflow.org/api_docs/python/tf/contrib/rnn/DropoutWrapper)\n",
    " * Pass cell and embedded input to [`tf.nn.dynamic_rnn()`](https://www.tensorflow.org/api_docs/python/tf/nn/dynamic_rnn)"
   ]
  },
  {
   "cell_type": "code",
   "execution_count": 10,
   "metadata": {
    "scrolled": false
   },
   "outputs": [
    {
     "name": "stderr",
     "output_type": "stream",
     "text": [
      "/home/ubuntu/anaconda3/envs/py35/lib/python3.5/site-packages/h5py/__init__.py:34: FutureWarning: Conversion of the second argument of issubdtype from `float` to `np.floating` is deprecated. In future, it will be treated as `np.float64 == np.dtype(float).type`.\n",
      "  from ._conv import register_converters as _register_converters\n"
     ]
    },
    {
     "name": "stdout",
     "output_type": "stream",
     "text": [
      "Tests Passed\n"
     ]
    }
   ],
   "source": [
    "from imp import reload\n",
    "reload(tests)\n",
    "\n",
    "def encoding_layer(rnn_inputs, rnn_size, num_layers, keep_prob, \n",
    "                   source_sequence_length, source_vocab_size, \n",
    "                   encoding_embedding_size):\n",
    "    \"\"\"\n",
    "    Create encoding layer\n",
    "    :param rnn_inputs: Inputs for the RNN\n",
    "    :param rnn_size: RNN Size.\n",
    "    :param num_layers: Number of layers\n",
    "    :param keep_prob: Dropout keep probability\n",
    "    :param source_sequence_length: a list of the lengths of each sequence in the batch\n",
    "    :param source_vocab_size: vocabulary size of source data\n",
    "    :param encoding_embedding_size: embedding size of source data\n",
    "    :return: tuple (RNN output, RNN state)\n",
    "    \"\"\"\n",
    "    # TODO: Implement Function\n",
    "    embedding = tf.contrib.layers.embed_sequence(rnn_inputs, vocab_size=source_vocab_size, \n",
    "                                                 embed_dim=encoding_embedding_size)\n",
    "    #lstm_cell = tf.contrib.rnn.BasicLSTMCell(rnn_size)\n",
    "    #dropout = tf.contrib.rnn.DropoutWrapper(lstm_cell, keep_prob)\n",
    "    #multi_rnn = tf.contrib.rnn.MultiRNNCell([dropout]*num_layers)\n",
    "    def make_cell(rnn_size):\n",
    "        enc_cell = tf.contrib.rnn.LSTMCell(rnn_size,\n",
    "                                           initializer=tf.random_uniform_initializer(-0.1, 0.1, seed=2))\n",
    "        dropout = tf.contrib.rnn.DropoutWrapper(enc_cell, keep_prob)\n",
    "        return enc_cell\n",
    "    multi_rnn = tf.contrib.rnn.MultiRNNCell([make_cell(rnn_size) for _ in range(num_layers)])\n",
    "    enc_output, enc_state = tf.nn.dynamic_rnn(multi_rnn, embedding, \n",
    "                                              sequence_length=source_sequence_length, dtype=tf.float32)\n",
    "    return enc_output, enc_state\n",
    "\n",
    "\"\"\"\n",
    "DON'T MODIFY ANYTHING IN THIS CELL THAT IS BELOW THIS LINE\n",
    "\"\"\"\n",
    "tests.test_encoding_layer(encoding_layer)"
   ]
  },
  {
   "cell_type": "markdown",
   "metadata": {},
   "source": [
    "### Decoding - Training\n",
    "Create a training decoding layer:\n",
    "* Create a [`tf.contrib.seq2seq.TrainingHelper`](https://www.tensorflow.org/api_docs/python/tf/contrib/seq2seq/TrainingHelper) \n",
    "* Create a [`tf.contrib.seq2seq.BasicDecoder`](https://www.tensorflow.org/api_docs/python/tf/contrib/seq2seq/BasicDecoder)\n",
    "* Obtain the decoder outputs from [`tf.contrib.seq2seq.dynamic_decode`](https://www.tensorflow.org/api_docs/python/tf/contrib/seq2seq/dynamic_decode)"
   ]
  },
  {
   "cell_type": "code",
   "execution_count": 11,
   "metadata": {},
   "outputs": [
    {
     "name": "stdout",
     "output_type": "stream",
     "text": [
      "Tests Passed\n"
     ]
    }
   ],
   "source": [
    "\n",
    "def decoding_layer_train(encoder_state, dec_cell, dec_embed_input, \n",
    "                         target_sequence_length, max_summary_length, \n",
    "                         output_layer, keep_prob):\n",
    "    \"\"\"\n",
    "    Create a decoding layer for training\n",
    "    :param encoder_state: Encoder State\n",
    "    :param dec_cell: Decoder RNN Cell\n",
    "    :param dec_embed_input: Decoder embedded input\n",
    "    :param target_sequence_length: The lengths of each sequence in the target batch\n",
    "    :param max_summary_length: The length of the longest sequence in the batch\n",
    "    :param output_layer: Function to apply the output layer\n",
    "    :param keep_prob: Dropout keep probability\n",
    "    :return: BasicDecoderOutput containing training logits and sample_id\n",
    "    \"\"\"\n",
    "    # TODO: Implement Function\n",
    "    training_helper = tf.contrib.seq2seq.TrainingHelper(inputs=dec_embed_input, \n",
    "                                                        sequence_length=target_sequence_length, \n",
    "                                                        time_major=False)\n",
    "    training_decoder = tf.contrib.seq2seq.BasicDecoder(dec_cell, training_helper, encoder_state, output_layer)\n",
    "    training_decoder_output = tf.contrib.seq2seq.dynamic_decode(training_decoder, impute_finished=True, \n",
    "                                                                maximum_iterations=max_summary_length)[0]\n",
    "    return training_decoder_output\n",
    "\n",
    "\n",
    "\n",
    "\"\"\"\n",
    "DON'T MODIFY ANYTHING IN THIS CELL THAT IS BELOW THIS LINE\n",
    "\"\"\"\n",
    "tests.test_decoding_layer_train(decoding_layer_train)"
   ]
  },
  {
   "cell_type": "markdown",
   "metadata": {},
   "source": [
    "### Decoding - Inference\n",
    "Create inference decoder:\n",
    "* Create a [`tf.contrib.seq2seq.GreedyEmbeddingHelper`](https://www.tensorflow.org/api_docs/python/tf/contrib/seq2seq/GreedyEmbeddingHelper)\n",
    "* Create a [`tf.contrib.seq2seq.BasicDecoder`](https://www.tensorflow.org/api_docs/python/tf/contrib/seq2seq/BasicDecoder)\n",
    "* Obtain the decoder outputs from [`tf.contrib.seq2seq.dynamic_decode`](https://www.tensorflow.org/api_docs/python/tf/contrib/seq2seq/dynamic_decode)"
   ]
  },
  {
   "cell_type": "code",
   "execution_count": 12,
   "metadata": {
    "scrolled": true
   },
   "outputs": [
    {
     "name": "stdout",
     "output_type": "stream",
     "text": [
      "Tests Passed\n"
     ]
    }
   ],
   "source": [
    "def decoding_layer_infer(encoder_state, dec_cell, dec_embeddings, start_of_sequence_id,\n",
    "                         end_of_sequence_id, max_target_sequence_length,\n",
    "                         vocab_size, output_layer, batch_size, keep_prob):\n",
    "    \"\"\"\n",
    "    Create a decoding layer for inference\n",
    "    :param encoder_state: Encoder state\n",
    "    :param dec_cell: Decoder RNN Cell\n",
    "    :param dec_embeddings: Decoder embeddings\n",
    "    :param start_of_sequence_id: GO ID\n",
    "    :param end_of_sequence_id: EOS Id\n",
    "    :param max_target_sequence_length: Maximum length of target sequences\n",
    "    :param vocab_size: Size of decoder/target vocabulary\n",
    "    :param decoding_scope: TenorFlow Variable Scope for decoding\n",
    "    :param output_layer: Function to apply the output layer\n",
    "    :param batch_size: Batch size\n",
    "    :param keep_prob: Dropout keep probability\n",
    "    :return: BasicDecoderOutput containing inference logits and sample_id\n",
    "    \"\"\"\n",
    "    # TODO: Implement Function\n",
    "\n",
    "    start_tokens = tf.tile(tf.constant([start_of_sequence_id], dtype=tf.int32), [batch_size], name='start_tokens')\n",
    "    infer_helper = tf.contrib.seq2seq.GreedyEmbeddingHelper(dec_embeddings, start_tokens, end_of_sequence_id)\n",
    "    infer_decoder = tf.contrib.seq2seq.BasicDecoder(dec_cell, infer_helper, encoder_state, output_layer)\n",
    "    infer_decoder_output = tf.contrib.seq2seq.dynamic_decode(infer_decoder, impute_finished=True, \n",
    "                                                             maximum_iterations=max_target_sequence_length)[0]\n",
    "    return infer_decoder_output\n",
    "\n",
    "\n",
    "\n",
    "\"\"\"\n",
    "DON'T MODIFY ANYTHING IN THIS CELL THAT IS BELOW THIS LINE\n",
    "\"\"\"\n",
    "tests.test_decoding_layer_infer(decoding_layer_infer)"
   ]
  },
  {
   "cell_type": "markdown",
   "metadata": {},
   "source": [
    "### Build the Decoding Layer\n",
    "Implement `decoding_layer()` to create a Decoder RNN layer.\n",
    "\n",
    "* Embed the target sequences\n",
    "* Construct the decoder LSTM cell (just like you constructed the encoder cell above)\n",
    "* Create an output layer to map the outputs of the decoder to the elements of our vocabulary\n",
    "* Use the your `decoding_layer_train(encoder_state, dec_cell, dec_embed_input, target_sequence_length, max_target_sequence_length, output_layer, keep_prob)` function to get the training logits.\n",
    "* Use your `decoding_layer_infer(encoder_state, dec_cell, dec_embeddings, start_of_sequence_id, end_of_sequence_id, max_target_sequence_length, vocab_size, output_layer, batch_size, keep_prob)` function to get the inference logits.\n",
    "\n",
    "Note: You'll need to use [tf.variable_scope](https://www.tensorflow.org/api_docs/python/tf/variable_scope) to share variables between training and inference."
   ]
  },
  {
   "cell_type": "code",
   "execution_count": 13,
   "metadata": {},
   "outputs": [
    {
     "name": "stdout",
     "output_type": "stream",
     "text": [
      "Tests Passed\n"
     ]
    }
   ],
   "source": [
    "def decoding_layer(dec_input, encoder_state,\n",
    "                   target_sequence_length, max_target_sequence_length,\n",
    "                   rnn_size,\n",
    "                   num_layers, target_vocab_to_int, target_vocab_size,\n",
    "                   batch_size, keep_prob, decoding_embedding_size):\n",
    "    \"\"\"\n",
    "    Create decoding layer\n",
    "    :param dec_input: Decoder input\n",
    "    :param encoder_state: Encoder state\n",
    "    :param target_sequence_length: The lengths of each sequence in the target batch\n",
    "    :param max_target_sequence_length: Maximum length of target sequences\n",
    "    :param rnn_size: RNN Size\n",
    "    :param num_layers: Number of layers\n",
    "    :param target_vocab_to_int: Dictionary to go from the target words to an id\n",
    "    :param target_vocab_size: Size of target vocabulary\n",
    "    :param batch_size: The size of the batch\n",
    "    :param keep_prob: Dropout keep probability\n",
    "    :param decoding_embedding_size: Decoding embedding size\n",
    "    :return: Tuple of (Training BasicDecoderOutput, Inference BasicDecoderOutput)\n",
    "    \"\"\"\n",
    "    # TODO: Implement Function\n",
    "    dec_embeddings = tf.Variable(tf.random_uniform([target_vocab_size, decoding_embedding_size], -1, 1))\n",
    "    dec_embed_input = tf.nn.embedding_lookup(dec_embeddings, dec_input)\n",
    "    def make_cell(rnn_size):\n",
    "        dec_cell = tf.contrib.rnn.LSTMCell(rnn_size,\n",
    "                                              initializer=tf.random_uniform_initializer(-0.1, 0.1, seed=2))\n",
    "        return dec_cell\n",
    "\n",
    "    dec_cell = tf.contrib.rnn.MultiRNNCell([make_cell(rnn_size) for _ in range(num_layers)])\n",
    "    \n",
    "    output_layer = Dense(target_vocab_size,\n",
    "                         kernel_initializer = tf.truncated_normal_initializer(mean = 0.0, stddev=0.1))\n",
    "    \n",
    "    with tf.variable_scope('decode'):\n",
    "        training_logits = decoding_layer_train(encoder_state, dec_cell, dec_embed_input, target_sequence_length, max_target_sequence_length, output_layer, keep_prob)\n",
    "    \n",
    "    with tf.variable_scope('decode', reuse=True):\n",
    "        inference_logits = decoding_layer_infer(encoder_state, dec_cell, dec_embeddings, target_vocab_to_int['<GO>'], target_vocab_to_int['<EOS>'], max_target_sequence_length, target_vocab_size, output_layer, batch_size, keep_prob)\n",
    "    \n",
    "    return training_logits, inference_logits\n",
    "\n",
    "\n",
    "\n",
    "\"\"\"\n",
    "DON'T MODIFY ANYTHING IN THIS CELL THAT IS BELOW THIS LINE\n",
    "\"\"\"\n",
    "tests.test_decoding_layer(decoding_layer)"
   ]
  },
  {
   "cell_type": "markdown",
   "metadata": {},
   "source": [
    "### Build the Neural Network\n",
    "Apply the functions you implemented above to:\n",
    "\n",
    "- Encode the input using your `encoding_layer(rnn_inputs, rnn_size, num_layers, keep_prob,  source_sequence_length, source_vocab_size, encoding_embedding_size)`.\n",
    "- Process target data using your `process_decoder_input(target_data, target_vocab_to_int, batch_size)` function.\n",
    "- Decode the encoded input using your `decoding_layer(dec_input, enc_state, target_sequence_length, max_target_sentence_length, rnn_size, num_layers, target_vocab_to_int, target_vocab_size, batch_size, keep_prob, dec_embedding_size)` function."
   ]
  },
  {
   "cell_type": "code",
   "execution_count": 14,
   "metadata": {},
   "outputs": [
    {
     "name": "stdout",
     "output_type": "stream",
     "text": [
      "Tests Passed\n"
     ]
    }
   ],
   "source": [
    "def seq2seq_model(input_data, target_data, keep_prob, batch_size,\n",
    "                  source_sequence_length, target_sequence_length,\n",
    "                  max_target_sentence_length,\n",
    "                  source_vocab_size, target_vocab_size,\n",
    "                  enc_embedding_size, dec_embedding_size,\n",
    "                  rnn_size, num_layers, target_vocab_to_int):\n",
    "    \"\"\"\n",
    "    Build the Sequence-to-Sequence part of the neural network\n",
    "    :param input_data: Input placeholder\n",
    "    :param target_data: Target placeholder\n",
    "    :param keep_prob: Dropout keep probability placeholder\n",
    "    :param batch_size: Batch Size\n",
    "    :param source_sequence_length: Sequence Lengths of source sequences in the batch\n",
    "    :param target_sequence_length: Sequence Lengths of target sequences in the batch\n",
    "    :param source_vocab_size: Source vocabulary size\n",
    "    :param target_vocab_size: Target vocabulary size\n",
    "    :param enc_embedding_size: Decoder embedding size\n",
    "    :param dec_embedding_size: Encoder embedding size\n",
    "    :param rnn_size: RNN Size\n",
    "    :param num_layers: Number of layers\n",
    "    :param target_vocab_to_int: Dictionary to go from the target words to an id\n",
    "    :return: Tuple of (Training BasicDecoderOutput, Inference BasicDecoderOutput)\n",
    "    \"\"\"\n",
    "    # TODO: Implement Function\n",
    "    _, enc_state = encoding_layer(input_data, rnn_size, num_layers, keep_prob,  source_sequence_length, \n",
    "                                  source_vocab_size, enc_embedding_size)\n",
    "    dec_input = process_decoder_input(target_data, target_vocab_to_int, batch_size)\n",
    "    training_decoder_output, inference_decoder_output = decoding_layer(dec_input, enc_state, target_sequence_length, \n",
    "                                                                       max_target_sentence_length, \n",
    "                                                                       rnn_size, num_layers, target_vocab_to_int, \n",
    "                                                                       target_vocab_size, batch_size, keep_prob, \n",
    "                                                                       dec_embedding_size)\n",
    "    return training_decoder_output, inference_decoder_output\n",
    "\n",
    "\n",
    "\"\"\"\n",
    "DON'T MODIFY ANYTHING IN THIS CELL THAT IS BELOW THIS LINE\n",
    "\"\"\"\n",
    "tests.test_seq2seq_model(seq2seq_model)"
   ]
  },
  {
   "cell_type": "markdown",
   "metadata": {},
   "source": [
    "## Neural Network Training\n",
    "### Hyperparameters\n",
    "Tune the following parameters:\n",
    "\n",
    "- Set `epochs` to the number of epochs.\n",
    "- Set `batch_size` to the batch size.\n",
    "- Set `rnn_size` to the size of the RNNs.\n",
    "- Set `num_layers` to the number of layers.\n",
    "- Set `encoding_embedding_size` to the size of the embedding for the encoder.\n",
    "- Set `decoding_embedding_size` to the size of the embedding for the decoder.\n",
    "- Set `learning_rate` to the learning rate.\n",
    "- Set `keep_probability` to the Dropout keep probability\n",
    "- Set `display_step` to state how many steps between each debug output statement"
   ]
  },
  {
   "cell_type": "code",
   "execution_count": 15,
   "metadata": {
    "collapsed": true
   },
   "outputs": [],
   "source": [
    "##### Number of Epochs\n",
    "epochs = 10\n",
    "# Batch Size\n",
    "batch_size = 512\n",
    "# RNN Size\n",
    "rnn_size = 128\n",
    "# Number of Layers\n",
    "num_layers = 4\n",
    "# Embedding Size\n",
    "encoding_embedding_size = 30\n",
    "decoding_embedding_size = 30\n",
    "# Learning Rate\n",
    "learning_rate = 0.005\n",
    "# Dropout Keep Probability\n",
    "keep_probability = 0.75\n",
    "display_step = 10"
   ]
  },
  {
   "cell_type": "markdown",
   "metadata": {},
   "source": [
    "### Build the Graph\n",
    "Build the graph using the neural network you implemented."
   ]
  },
  {
   "cell_type": "code",
   "execution_count": 16,
   "metadata": {
    "collapsed": true
   },
   "outputs": [],
   "source": [
    "\"\"\"\n",
    "DON'T MODIFY ANYTHING IN THIS CELL\n",
    "\"\"\"\n",
    "save_path = 'checkpoints/dev'\n",
    "(source_int_text, target_int_text), (source_vocab_to_int, target_vocab_to_int), _ = helper.load_preprocess()\n",
    "max_target_sentence_length = max([len(sentence) for sentence in source_int_text])\n",
    "\n",
    "train_graph = tf.Graph()\n",
    "with train_graph.as_default():\n",
    "    input_data, targets, lr, keep_prob, target_sequence_length, max_target_sequence_length, source_sequence_length = model_inputs()\n",
    "\n",
    "    #sequence_length = tf.placeholder_with_default(max_target_sentence_length, None, name='sequence_length')\n",
    "    input_shape = tf.shape(input_data)\n",
    "\n",
    "    train_logits, inference_logits = seq2seq_model(tf.reverse(input_data, [-1]),\n",
    "                                                   targets,\n",
    "                                                   keep_prob,\n",
    "                                                   batch_size,\n",
    "                                                   source_sequence_length,\n",
    "                                                   target_sequence_length,\n",
    "                                                   max_target_sequence_length,\n",
    "                                                   len(source_vocab_to_int),\n",
    "                                                   len(target_vocab_to_int),\n",
    "                                                   encoding_embedding_size,\n",
    "                                                   decoding_embedding_size,\n",
    "                                                   rnn_size,\n",
    "                                                   num_layers,\n",
    "                                                   target_vocab_to_int)\n",
    "\n",
    "\n",
    "    training_logits = tf.identity(train_logits.rnn_output, name='logits')\n",
    "    inference_logits = tf.identity(inference_logits.sample_id, name='predictions')\n",
    "\n",
    "    masks = tf.sequence_mask(target_sequence_length, max_target_sequence_length, dtype=tf.float32, name='masks')\n",
    "\n",
    "    with tf.name_scope(\"optimization\"):\n",
    "        # Loss function\n",
    "        cost = tf.contrib.seq2seq.sequence_loss(\n",
    "            training_logits,\n",
    "            targets,\n",
    "            masks)\n",
    "\n",
    "        # Optimizer\n",
    "        optimizer = tf.train.AdamOptimizer(lr)\n",
    "\n",
    "        # Gradient Clipping\n",
    "        gradients = optimizer.compute_gradients(cost)\n",
    "        capped_gradients = [(tf.clip_by_value(grad, -1., 1.), var) for grad, var in gradients if grad is not None]\n",
    "        train_op = optimizer.apply_gradients(capped_gradients)\n"
   ]
  },
  {
   "cell_type": "markdown",
   "metadata": {},
   "source": [
    "Batch and pad the source and target sequences"
   ]
  },
  {
   "cell_type": "code",
   "execution_count": 17,
   "metadata": {
    "collapsed": true
   },
   "outputs": [],
   "source": [
    "\"\"\"\n",
    "DON'T MODIFY ANYTHING IN THIS CELL\n",
    "\"\"\"\n",
    "def pad_sentence_batch(sentence_batch, pad_int):\n",
    "    \"\"\"Pad sentences with <PAD> so that each sentence of a batch has the same length\"\"\"\n",
    "    max_sentence = max([len(sentence) for sentence in sentence_batch])\n",
    "    return [sentence + [pad_int] * (max_sentence - len(sentence)) for sentence in sentence_batch]\n",
    "\n",
    "\n",
    "def get_batches(sources, targets, batch_size, source_pad_int, target_pad_int):\n",
    "    \"\"\"Batch targets, sources, and the lengths of their sentences together\"\"\"\n",
    "    for batch_i in range(0, len(sources)//batch_size):\n",
    "        start_i = batch_i * batch_size\n",
    "\n",
    "        # Slice the right amount for the batch\n",
    "        sources_batch = sources[start_i:start_i + batch_size]\n",
    "        targets_batch = targets[start_i:start_i + batch_size]\n",
    "\n",
    "        # Pad\n",
    "        pad_sources_batch = np.array(pad_sentence_batch(sources_batch, source_pad_int))\n",
    "        pad_targets_batch = np.array(pad_sentence_batch(targets_batch, target_pad_int))\n",
    "\n",
    "        # Need the lengths for the _lengths parameters\n",
    "        pad_targets_lengths = []\n",
    "        for target in pad_targets_batch:\n",
    "            pad_targets_lengths.append(len(target))\n",
    "\n",
    "        pad_source_lengths = []\n",
    "        for source in pad_sources_batch:\n",
    "            pad_source_lengths.append(len(source))\n",
    "\n",
    "        yield pad_sources_batch, pad_targets_batch, pad_source_lengths, pad_targets_lengths\n"
   ]
  },
  {
   "cell_type": "markdown",
   "metadata": {},
   "source": [
    "### Train\n",
    "Train the neural network on the preprocessed data. If you have a hard time getting a good loss, check the forms to see if anyone is having the same problem."
   ]
  },
  {
   "cell_type": "code",
   "execution_count": 18,
   "metadata": {
    "scrolled": true
   },
   "outputs": [
    {
     "name": "stdout",
     "output_type": "stream",
     "text": [
      "Epoch   0 Batch   10/269 - Train Accuracy: 0.2683, Validation Accuracy: 0.3387, Loss: 3.3524\n",
      "Epoch   0 Batch   20/269 - Train Accuracy: 0.3213, Validation Accuracy: 0.3845, Loss: 2.9947\n",
      "Epoch   0 Batch   30/269 - Train Accuracy: 0.3803, Validation Accuracy: 0.4156, Loss: 2.7144\n",
      "Epoch   0 Batch   40/269 - Train Accuracy: 0.3692, Validation Accuracy: 0.4256, Loss: 2.6002\n",
      "Epoch   0 Batch   50/269 - Train Accuracy: 0.3749, Validation Accuracy: 0.4335, Loss: 2.4285\n",
      "Epoch   0 Batch   60/269 - Train Accuracy: 0.4023, Validation Accuracy: 0.4106, Loss: 2.2361\n",
      "Epoch   0 Batch   70/269 - Train Accuracy: 0.4420, Validation Accuracy: 0.4578, Loss: 2.1026\n",
      "Epoch   0 Batch   80/269 - Train Accuracy: 0.4380, Validation Accuracy: 0.4504, Loss: 1.9609\n",
      "Epoch   0 Batch   90/269 - Train Accuracy: 0.3896, Validation Accuracy: 0.4544, Loss: 2.0342\n",
      "Epoch   0 Batch  100/269 - Train Accuracy: 0.4422, Validation Accuracy: 0.4498, Loss: 1.8137\n",
      "Epoch   0 Batch  110/269 - Train Accuracy: 0.4385, Validation Accuracy: 0.4633, Loss: 1.8208\n",
      "Epoch   0 Batch  120/269 - Train Accuracy: 0.4122, Validation Accuracy: 0.4629, Loss: 1.7846\n",
      "Epoch   0 Batch  130/269 - Train Accuracy: 0.3291, Validation Accuracy: 0.3959, Loss: 1.7285\n",
      "Epoch   0 Batch  140/269 - Train Accuracy: 0.4400, Validation Accuracy: 0.4600, Loss: 1.5420\n",
      "Epoch   0 Batch  150/269 - Train Accuracy: 0.4348, Validation Accuracy: 0.4544, Loss: 1.4527\n",
      "Epoch   0 Batch  160/269 - Train Accuracy: 0.4396, Validation Accuracy: 0.4546, Loss: 1.3863\n",
      "Epoch   0 Batch  170/269 - Train Accuracy: 0.4217, Validation Accuracy: 0.4302, Loss: 1.3125\n",
      "Epoch   0 Batch  180/269 - Train Accuracy: 0.4492, Validation Accuracy: 0.4637, Loss: 1.2009\n",
      "Epoch   0 Batch  190/269 - Train Accuracy: 0.4602, Validation Accuracy: 0.4771, Loss: 1.1566\n",
      "Epoch   0 Batch  200/269 - Train Accuracy: 0.4339, Validation Accuracy: 0.4774, Loss: 1.1623\n",
      "Epoch   0 Batch  210/269 - Train Accuracy: 0.4618, Validation Accuracy: 0.4664, Loss: 1.0562\n",
      "Epoch   0 Batch  220/269 - Train Accuracy: 0.4556, Validation Accuracy: 0.4627, Loss: 0.9728\n",
      "Epoch   0 Batch  230/269 - Train Accuracy: 0.4317, Validation Accuracy: 0.4619, Loss: 0.9720\n",
      "Epoch   0 Batch  240/269 - Train Accuracy: 0.4893, Validation Accuracy: 0.4648, Loss: 0.8567\n",
      "Epoch   0 Batch  250/269 - Train Accuracy: 0.4463, Validation Accuracy: 0.4729, Loss: 0.9201\n",
      "Epoch   0 Batch  260/269 - Train Accuracy: 0.4591, Validation Accuracy: 0.4924, Loss: 0.9293\n",
      "Epoch   1 Batch   10/269 - Train Accuracy: 0.4859, Validation Accuracy: 0.5308, Loss: 0.8343\n",
      "Epoch   1 Batch   20/269 - Train Accuracy: 0.5198, Validation Accuracy: 0.5446, Loss: 0.8130\n",
      "Epoch   1 Batch   30/269 - Train Accuracy: 0.5447, Validation Accuracy: 0.5600, Loss: 0.7549\n",
      "Epoch   1 Batch   40/269 - Train Accuracy: 0.5199, Validation Accuracy: 0.5645, Loss: 0.7797\n",
      "Epoch   1 Batch   50/269 - Train Accuracy: 0.5289, Validation Accuracy: 0.5679, Loss: 0.7586\n",
      "Epoch   1 Batch   60/269 - Train Accuracy: 0.5559, Validation Accuracy: 0.5641, Loss: 0.6797\n",
      "Epoch   1 Batch   70/269 - Train Accuracy: 0.5751, Validation Accuracy: 0.5786, Loss: 0.7004\n",
      "Epoch   1 Batch   80/269 - Train Accuracy: 0.5898, Validation Accuracy: 0.5850, Loss: 0.6749\n",
      "Epoch   1 Batch   90/269 - Train Accuracy: 0.4744, Validation Accuracy: 0.5374, Loss: 0.7424\n",
      "Epoch   1 Batch  100/269 - Train Accuracy: 0.5833, Validation Accuracy: 0.5790, Loss: 0.6784\n",
      "Epoch   1 Batch  110/269 - Train Accuracy: 0.5738, Validation Accuracy: 0.5874, Loss: 0.6456\n",
      "Epoch   1 Batch  120/269 - Train Accuracy: 0.5893, Validation Accuracy: 0.6071, Loss: 0.6607\n",
      "Epoch   1 Batch  130/269 - Train Accuracy: 0.5805, Validation Accuracy: 0.6039, Loss: 0.6506\n",
      "Epoch   1 Batch  140/269 - Train Accuracy: 0.6176, Validation Accuracy: 0.6082, Loss: 0.6302\n",
      "Epoch   1 Batch  150/269 - Train Accuracy: 0.6036, Validation Accuracy: 0.6118, Loss: 0.6227\n",
      "Epoch   1 Batch  160/269 - Train Accuracy: 0.6163, Validation Accuracy: 0.6067, Loss: 0.5972\n",
      "Epoch   1 Batch  170/269 - Train Accuracy: 0.6174, Validation Accuracy: 0.6119, Loss: 0.5789\n",
      "Epoch   1 Batch  180/269 - Train Accuracy: 0.6101, Validation Accuracy: 0.6185, Loss: 0.5761\n",
      "Epoch   1 Batch  190/269 - Train Accuracy: 0.6164, Validation Accuracy: 0.6107, Loss: 0.5607\n",
      "Epoch   1 Batch  200/269 - Train Accuracy: 0.6194, Validation Accuracy: 0.6222, Loss: 0.5883\n",
      "Epoch   1 Batch  210/269 - Train Accuracy: 0.6389, Validation Accuracy: 0.6364, Loss: 0.5334\n",
      "Epoch   1 Batch  220/269 - Train Accuracy: 0.6361, Validation Accuracy: 0.6344, Loss: 0.5011\n",
      "Epoch   1 Batch  230/269 - Train Accuracy: 0.6275, Validation Accuracy: 0.6314, Loss: 0.5815\n",
      "Epoch   1 Batch  240/269 - Train Accuracy: 0.6439, Validation Accuracy: 0.6293, Loss: 0.4967\n",
      "Epoch   1 Batch  250/269 - Train Accuracy: 0.6237, Validation Accuracy: 0.6424, Loss: 0.5307\n",
      "Epoch   1 Batch  260/269 - Train Accuracy: 0.6133, Validation Accuracy: 0.6428, Loss: 0.5337\n",
      "Epoch   2 Batch   10/269 - Train Accuracy: 0.6312, Validation Accuracy: 0.6546, Loss: 0.4987\n",
      "Epoch   2 Batch   20/269 - Train Accuracy: 0.6312, Validation Accuracy: 0.6528, Loss: 0.4960\n",
      "Epoch   2 Batch   30/269 - Train Accuracy: 0.6514, Validation Accuracy: 0.6488, Loss: 0.4761\n",
      "Epoch   2 Batch   40/269 - Train Accuracy: 0.6438, Validation Accuracy: 0.6669, Loss: 0.4899\n",
      "Epoch   2 Batch   50/269 - Train Accuracy: 0.6404, Validation Accuracy: 0.6473, Loss: 0.4977\n",
      "Epoch   2 Batch   60/269 - Train Accuracy: 0.6672, Validation Accuracy: 0.6605, Loss: 0.4340\n",
      "Epoch   2 Batch   70/269 - Train Accuracy: 0.6732, Validation Accuracy: 0.6710, Loss: 0.4540\n",
      "Epoch   2 Batch   80/269 - Train Accuracy: 0.6773, Validation Accuracy: 0.6783, Loss: 0.4418\n",
      "Epoch   2 Batch   90/269 - Train Accuracy: 0.6349, Validation Accuracy: 0.6626, Loss: 0.4950\n",
      "Epoch   2 Batch  100/269 - Train Accuracy: 0.6845, Validation Accuracy: 0.6726, Loss: 0.4459\n",
      "Epoch   2 Batch  110/269 - Train Accuracy: 0.6475, Validation Accuracy: 0.6694, Loss: 0.4343\n",
      "Epoch   2 Batch  120/269 - Train Accuracy: 0.6638, Validation Accuracy: 0.6713, Loss: 0.4334\n",
      "Epoch   2 Batch  130/269 - Train Accuracy: 0.6402, Validation Accuracy: 0.6776, Loss: 0.4260\n",
      "Epoch   2 Batch  140/269 - Train Accuracy: 0.6850, Validation Accuracy: 0.6847, Loss: 0.4152\n",
      "Epoch   2 Batch  150/269 - Train Accuracy: 0.6913, Validation Accuracy: 0.6864, Loss: 0.3991\n",
      "Epoch   2 Batch  160/269 - Train Accuracy: 0.6996, Validation Accuracy: 0.6956, Loss: 0.3840\n",
      "Epoch   2 Batch  170/269 - Train Accuracy: 0.6975, Validation Accuracy: 0.6956, Loss: 0.3738\n",
      "Epoch   2 Batch  180/269 - Train Accuracy: 0.6879, Validation Accuracy: 0.6989, Loss: 0.3694\n",
      "Epoch   2 Batch  190/269 - Train Accuracy: 0.7108, Validation Accuracy: 0.7092, Loss: 0.3620\n",
      "Epoch   2 Batch  200/269 - Train Accuracy: 0.7097, Validation Accuracy: 0.7093, Loss: 0.3643\n",
      "Epoch   2 Batch  210/269 - Train Accuracy: 0.7108, Validation Accuracy: 0.7056, Loss: 0.3448\n",
      "Epoch   2 Batch  220/269 - Train Accuracy: 0.6971, Validation Accuracy: 0.7027, Loss: 0.3322\n",
      "Epoch   2 Batch  230/269 - Train Accuracy: 0.6901, Validation Accuracy: 0.6818, Loss: 0.3441\n",
      "Epoch   2 Batch  240/269 - Train Accuracy: 0.7266, Validation Accuracy: 0.7122, Loss: 0.3043\n",
      "Epoch   2 Batch  250/269 - Train Accuracy: 0.6979, Validation Accuracy: 0.7041, Loss: 0.3357\n",
      "Epoch   2 Batch  260/269 - Train Accuracy: 0.6915, Validation Accuracy: 0.7116, Loss: 0.3349\n",
      "Epoch   3 Batch   10/269 - Train Accuracy: 0.7168, Validation Accuracy: 0.7235, Loss: 0.3133\n",
      "Epoch   3 Batch   20/269 - Train Accuracy: 0.7218, Validation Accuracy: 0.7075, Loss: 0.3099\n",
      "Epoch   3 Batch   30/269 - Train Accuracy: 0.7244, Validation Accuracy: 0.7244, Loss: 0.2888\n",
      "Epoch   3 Batch   40/269 - Train Accuracy: 0.7073, Validation Accuracy: 0.7360, Loss: 0.3015\n",
      "Epoch   3 Batch   50/269 - Train Accuracy: 0.6783, Validation Accuracy: 0.6919, Loss: 0.3270\n",
      "Epoch   3 Batch   60/269 - Train Accuracy: 0.7136, Validation Accuracy: 0.7202, Loss: 0.2850\n",
      "Epoch   3 Batch   70/269 - Train Accuracy: 0.7267, Validation Accuracy: 0.7372, Loss: 0.2805\n",
      "Epoch   3 Batch   80/269 - Train Accuracy: 0.7439, Validation Accuracy: 0.7330, Loss: 0.2557\n",
      "Epoch   3 Batch   90/269 - Train Accuracy: 0.7153, Validation Accuracy: 0.7496, Loss: 0.2592\n",
      "Epoch   3 Batch  100/269 - Train Accuracy: 0.7660, Validation Accuracy: 0.7459, Loss: 0.2394\n",
      "Epoch   3 Batch  110/269 - Train Accuracy: 0.7551, Validation Accuracy: 0.7687, Loss: 0.2280\n"
     ]
    },
    {
     "name": "stdout",
     "output_type": "stream",
     "text": [
      "Epoch   3 Batch  120/269 - Train Accuracy: 0.7581, Validation Accuracy: 0.7651, Loss: 0.2339\n",
      "Epoch   3 Batch  130/269 - Train Accuracy: 0.7392, Validation Accuracy: 0.7496, Loss: 0.2539\n",
      "Epoch   3 Batch  140/269 - Train Accuracy: 0.7513, Validation Accuracy: 0.7617, Loss: 0.2434\n",
      "Epoch   3 Batch  150/269 - Train Accuracy: 0.7801, Validation Accuracy: 0.7810, Loss: 0.2178\n",
      "Epoch   3 Batch  160/269 - Train Accuracy: 0.7844, Validation Accuracy: 0.7868, Loss: 0.2111\n",
      "Epoch   3 Batch  170/269 - Train Accuracy: 0.7971, Validation Accuracy: 0.7988, Loss: 0.1935\n",
      "Epoch   3 Batch  180/269 - Train Accuracy: 0.8026, Validation Accuracy: 0.7913, Loss: 0.1931\n",
      "Epoch   3 Batch  190/269 - Train Accuracy: 0.7677, Validation Accuracy: 0.7867, Loss: 0.1954\n",
      "Epoch   3 Batch  200/269 - Train Accuracy: 0.7814, Validation Accuracy: 0.7937, Loss: 0.2089\n",
      "Epoch   3 Batch  210/269 - Train Accuracy: 0.8091, Validation Accuracy: 0.7987, Loss: 0.1903\n",
      "Epoch   3 Batch  220/269 - Train Accuracy: 0.8129, Validation Accuracy: 0.8191, Loss: 0.1660\n",
      "Epoch   3 Batch  230/269 - Train Accuracy: 0.8084, Validation Accuracy: 0.8165, Loss: 0.1741\n",
      "Epoch   3 Batch  240/269 - Train Accuracy: 0.8465, Validation Accuracy: 0.8340, Loss: 0.1418\n",
      "Epoch   3 Batch  250/269 - Train Accuracy: 0.8376, Validation Accuracy: 0.8354, Loss: 0.1544\n",
      "Epoch   3 Batch  260/269 - Train Accuracy: 0.8264, Validation Accuracy: 0.8374, Loss: 0.1656\n",
      "Epoch   4 Batch   10/269 - Train Accuracy: 0.8216, Validation Accuracy: 0.8253, Loss: 0.1847\n",
      "Epoch   4 Batch   20/269 - Train Accuracy: 0.8421, Validation Accuracy: 0.8433, Loss: 0.1603\n",
      "Epoch   4 Batch   30/269 - Train Accuracy: 0.8424, Validation Accuracy: 0.8496, Loss: 0.1378\n",
      "Epoch   4 Batch   40/269 - Train Accuracy: 0.8294, Validation Accuracy: 0.8505, Loss: 0.1473\n",
      "Epoch   4 Batch   50/269 - Train Accuracy: 0.8446, Validation Accuracy: 0.8581, Loss: 0.1464\n",
      "Epoch   4 Batch   60/269 - Train Accuracy: 0.8550, Validation Accuracy: 0.8582, Loss: 0.1196\n",
      "Epoch   4 Batch   70/269 - Train Accuracy: 0.8691, Validation Accuracy: 0.8643, Loss: 0.1337\n",
      "Epoch   4 Batch   80/269 - Train Accuracy: 0.8473, Validation Accuracy: 0.8635, Loss: 0.1214\n",
      "Epoch   4 Batch   90/269 - Train Accuracy: 0.8441, Validation Accuracy: 0.8562, Loss: 0.1210\n",
      "Epoch   4 Batch  100/269 - Train Accuracy: 0.8670, Validation Accuracy: 0.8731, Loss: 0.1140\n",
      "Epoch   4 Batch  110/269 - Train Accuracy: 0.8583, Validation Accuracy: 0.8658, Loss: 0.1064\n",
      "Epoch   4 Batch  120/269 - Train Accuracy: 0.8322, Validation Accuracy: 0.8478, Loss: 0.1410\n",
      "Epoch   4 Batch  130/269 - Train Accuracy: 0.8271, Validation Accuracy: 0.8365, Loss: 0.2048\n",
      "Epoch   4 Batch  140/269 - Train Accuracy: 0.8428, Validation Accuracy: 0.8415, Loss: 0.1281\n",
      "Epoch   4 Batch  150/269 - Train Accuracy: 0.8680, Validation Accuracy: 0.8702, Loss: 0.1136\n",
      "Epoch   4 Batch  160/269 - Train Accuracy: 0.8673, Validation Accuracy: 0.8754, Loss: 0.1055\n",
      "Epoch   4 Batch  170/269 - Train Accuracy: 0.8670, Validation Accuracy: 0.8777, Loss: 0.0971\n",
      "Epoch   4 Batch  180/269 - Train Accuracy: 0.8651, Validation Accuracy: 0.8808, Loss: 0.0960\n",
      "Epoch   4 Batch  190/269 - Train Accuracy: 0.8653, Validation Accuracy: 0.8710, Loss: 0.0963\n",
      "Epoch   4 Batch  200/269 - Train Accuracy: 0.8181, Validation Accuracy: 0.7961, Loss: 0.1809\n",
      "Epoch   4 Batch  210/269 - Train Accuracy: 0.8324, Validation Accuracy: 0.8379, Loss: 0.1201\n",
      "Epoch   4 Batch  220/269 - Train Accuracy: 0.8619, Validation Accuracy: 0.8817, Loss: 0.1108\n",
      "Epoch   4 Batch  230/269 - Train Accuracy: 0.8729, Validation Accuracy: 0.8803, Loss: 0.1063\n",
      "Epoch   4 Batch  240/269 - Train Accuracy: 0.8911, Validation Accuracy: 0.8670, Loss: 0.0862\n",
      "Epoch   4 Batch  250/269 - Train Accuracy: 0.8826, Validation Accuracy: 0.8881, Loss: 0.0903\n",
      "Epoch   4 Batch  260/269 - Train Accuracy: 0.8740, Validation Accuracy: 0.8687, Loss: 0.1004\n",
      "Epoch   5 Batch   10/269 - Train Accuracy: 0.8865, Validation Accuracy: 0.8946, Loss: 0.0835\n",
      "Epoch   5 Batch   20/269 - Train Accuracy: 0.8841, Validation Accuracy: 0.8754, Loss: 0.0847\n",
      "Epoch   5 Batch   30/269 - Train Accuracy: 0.8797, Validation Accuracy: 0.8741, Loss: 0.0791\n",
      "Epoch   5 Batch   40/269 - Train Accuracy: 0.8759, Validation Accuracy: 0.8822, Loss: 0.0891\n",
      "Epoch   5 Batch   50/269 - Train Accuracy: 0.8825, Validation Accuracy: 0.8770, Loss: 0.0875\n",
      "Epoch   5 Batch   60/269 - Train Accuracy: 0.8945, Validation Accuracy: 0.8757, Loss: 0.0713\n",
      "Epoch   5 Batch   70/269 - Train Accuracy: 0.8959, Validation Accuracy: 0.8987, Loss: 0.0789\n",
      "Epoch   5 Batch   80/269 - Train Accuracy: 0.8900, Validation Accuracy: 0.9040, Loss: 0.0751\n",
      "Epoch   5 Batch   90/269 - Train Accuracy: 0.9023, Validation Accuracy: 0.9005, Loss: 0.0771\n",
      "Epoch   5 Batch  100/269 - Train Accuracy: 0.9058, Validation Accuracy: 0.8997, Loss: 0.0729\n",
      "Epoch   5 Batch  110/269 - Train Accuracy: 0.8950, Validation Accuracy: 0.8923, Loss: 0.0693\n",
      "Epoch   5 Batch  120/269 - Train Accuracy: 0.9152, Validation Accuracy: 0.9084, Loss: 0.0792\n",
      "Epoch   5 Batch  130/269 - Train Accuracy: 0.8986, Validation Accuracy: 0.9004, Loss: 0.0815\n",
      "Epoch   5 Batch  140/269 - Train Accuracy: 0.8512, Validation Accuracy: 0.8568, Loss: 0.0884\n",
      "Epoch   5 Batch  150/269 - Train Accuracy: 0.8692, Validation Accuracy: 0.8936, Loss: 0.1023\n",
      "Epoch   5 Batch  160/269 - Train Accuracy: 0.8877, Validation Accuracy: 0.8947, Loss: 0.0886\n",
      "Epoch   5 Batch  170/269 - Train Accuracy: 0.8896, Validation Accuracy: 0.9007, Loss: 0.0717\n",
      "Epoch   5 Batch  180/269 - Train Accuracy: 0.9140, Validation Accuracy: 0.9081, Loss: 0.0690\n",
      "Epoch   5 Batch  190/269 - Train Accuracy: 0.9094, Validation Accuracy: 0.9164, Loss: 0.0677\n",
      "Epoch   5 Batch  200/269 - Train Accuracy: 0.9268, Validation Accuracy: 0.9149, Loss: 0.0643\n",
      "Epoch   5 Batch  210/269 - Train Accuracy: 0.9199, Validation Accuracy: 0.9211, Loss: 0.0635\n",
      "Epoch   5 Batch  220/269 - Train Accuracy: 0.9102, Validation Accuracy: 0.9217, Loss: 0.0603\n",
      "Epoch   5 Batch  230/269 - Train Accuracy: 0.9183, Validation Accuracy: 0.9204, Loss: 0.0618\n",
      "Epoch   5 Batch  240/269 - Train Accuracy: 0.9378, Validation Accuracy: 0.9232, Loss: 0.0526\n",
      "Epoch   5 Batch  250/269 - Train Accuracy: 0.9304, Validation Accuracy: 0.9237, Loss: 0.0580\n",
      "Epoch   5 Batch  260/269 - Train Accuracy: 0.9235, Validation Accuracy: 0.9258, Loss: 0.0688\n",
      "Epoch   6 Batch   10/269 - Train Accuracy: 0.9280, Validation Accuracy: 0.9165, Loss: 0.0540\n",
      "Epoch   6 Batch   20/269 - Train Accuracy: 0.9221, Validation Accuracy: 0.9228, Loss: 0.0595\n",
      "Epoch   6 Batch   30/269 - Train Accuracy: 0.9030, Validation Accuracy: 0.8940, Loss: 0.1077\n",
      "Epoch   6 Batch   40/269 - Train Accuracy: 0.8880, Validation Accuracy: 0.9056, Loss: 0.0961\n",
      "Epoch   6 Batch   50/269 - Train Accuracy: 0.8903, Validation Accuracy: 0.9123, Loss: 0.0974\n",
      "Epoch   6 Batch   60/269 - Train Accuracy: 0.9215, Validation Accuracy: 0.9150, Loss: 0.0660\n",
      "Epoch   6 Batch   70/269 - Train Accuracy: 0.9230, Validation Accuracy: 0.9160, Loss: 0.0707\n",
      "Epoch   6 Batch   80/269 - Train Accuracy: 0.9012, Validation Accuracy: 0.9002, Loss: 0.0663\n",
      "Epoch   6 Batch   90/269 - Train Accuracy: 0.9171, Validation Accuracy: 0.9176, Loss: 0.0729\n",
      "Epoch   6 Batch  100/269 - Train Accuracy: 0.9179, Validation Accuracy: 0.9047, Loss: 0.0770\n",
      "Epoch   6 Batch  110/269 - Train Accuracy: 0.9091, Validation Accuracy: 0.9188, Loss: 0.0643\n",
      "Epoch   6 Batch  120/269 - Train Accuracy: 0.9198, Validation Accuracy: 0.9073, Loss: 0.0693\n",
      "Epoch   6 Batch  130/269 - Train Accuracy: 0.8178, Validation Accuracy: 0.8321, Loss: 0.0942\n",
      "Epoch   6 Batch  140/269 - Train Accuracy: 0.8890, Validation Accuracy: 0.8828, Loss: 0.0927\n",
      "Epoch   6 Batch  150/269 - Train Accuracy: 0.8946, Validation Accuracy: 0.8912, Loss: 0.0721\n",
      "Epoch   6 Batch  160/269 - Train Accuracy: 0.9205, Validation Accuracy: 0.9133, Loss: 0.0606\n",
      "Epoch   6 Batch  170/269 - Train Accuracy: 0.9072, Validation Accuracy: 0.9253, Loss: 0.0587\n",
      "Epoch   6 Batch  180/269 - Train Accuracy: 0.9308, Validation Accuracy: 0.9222, Loss: 0.0536\n",
      "Epoch   6 Batch  190/269 - Train Accuracy: 0.9275, Validation Accuracy: 0.9310, Loss: 0.0516\n",
      "Epoch   6 Batch  200/269 - Train Accuracy: 0.9340, Validation Accuracy: 0.9270, Loss: 0.0481\n",
      "Epoch   6 Batch  210/269 - Train Accuracy: 0.9273, Validation Accuracy: 0.9255, Loss: 0.0503\n",
      "Epoch   6 Batch  220/269 - Train Accuracy: 0.9297, Validation Accuracy: 0.9350, Loss: 0.0469\n"
     ]
    },
    {
     "name": "stdout",
     "output_type": "stream",
     "text": [
      "Epoch   6 Batch  230/269 - Train Accuracy: 0.9355, Validation Accuracy: 0.9454, Loss: 0.0476\n",
      "Epoch   6 Batch  240/269 - Train Accuracy: 0.9501, Validation Accuracy: 0.9337, Loss: 0.0423\n",
      "Epoch   6 Batch  250/269 - Train Accuracy: 0.9411, Validation Accuracy: 0.9274, Loss: 0.0466\n",
      "Epoch   6 Batch  260/269 - Train Accuracy: 0.9318, Validation Accuracy: 0.9299, Loss: 0.0543\n",
      "Epoch   7 Batch   10/269 - Train Accuracy: 0.9472, Validation Accuracy: 0.9315, Loss: 0.0398\n",
      "Epoch   7 Batch   20/269 - Train Accuracy: 0.9309, Validation Accuracy: 0.9377, Loss: 0.0443\n",
      "Epoch   7 Batch   30/269 - Train Accuracy: 0.9338, Validation Accuracy: 0.9237, Loss: 0.0440\n",
      "Epoch   7 Batch   40/269 - Train Accuracy: 0.9137, Validation Accuracy: 0.9244, Loss: 0.0535\n",
      "Epoch   7 Batch   50/269 - Train Accuracy: 0.9213, Validation Accuracy: 0.9350, Loss: 0.0555\n",
      "Epoch   7 Batch   60/269 - Train Accuracy: 0.9443, Validation Accuracy: 0.9352, Loss: 0.0413\n",
      "Epoch   7 Batch   70/269 - Train Accuracy: 0.9419, Validation Accuracy: 0.9407, Loss: 0.0464\n",
      "Epoch   7 Batch   80/269 - Train Accuracy: 0.9342, Validation Accuracy: 0.9358, Loss: 0.0463\n",
      "Epoch   7 Batch   90/269 - Train Accuracy: 0.9489, Validation Accuracy: 0.9426, Loss: 0.0450\n",
      "Epoch   7 Batch  100/269 - Train Accuracy: 0.9493, Validation Accuracy: 0.9382, Loss: 0.0440\n",
      "Epoch   7 Batch  110/269 - Train Accuracy: 0.9247, Validation Accuracy: 0.9357, Loss: 0.0392\n",
      "Epoch   7 Batch  120/269 - Train Accuracy: 0.9410, Validation Accuracy: 0.9310, Loss: 0.0455\n",
      "Epoch   7 Batch  130/269 - Train Accuracy: 0.9359, Validation Accuracy: 0.9308, Loss: 0.0440\n",
      "Epoch   7 Batch  140/269 - Train Accuracy: 0.9408, Validation Accuracy: 0.9290, Loss: 0.0477\n",
      "Epoch   7 Batch  150/269 - Train Accuracy: 0.9362, Validation Accuracy: 0.9386, Loss: 0.0483\n",
      "Epoch   7 Batch  160/269 - Train Accuracy: 0.9366, Validation Accuracy: 0.9389, Loss: 0.0392\n",
      "Epoch   7 Batch  170/269 - Train Accuracy: 0.9249, Validation Accuracy: 0.9356, Loss: 0.0406\n",
      "Epoch   7 Batch  180/269 - Train Accuracy: 0.9522, Validation Accuracy: 0.9395, Loss: 0.0386\n",
      "Epoch   7 Batch  190/269 - Train Accuracy: 0.9426, Validation Accuracy: 0.9455, Loss: 0.0406\n",
      "Epoch   7 Batch  200/269 - Train Accuracy: 0.9424, Validation Accuracy: 0.9323, Loss: 0.0370\n",
      "Epoch   7 Batch  210/269 - Train Accuracy: 0.9328, Validation Accuracy: 0.9293, Loss: 0.0428\n",
      "Epoch   7 Batch  220/269 - Train Accuracy: 0.9450, Validation Accuracy: 0.9280, Loss: 0.0383\n",
      "Epoch   7 Batch  230/269 - Train Accuracy: 0.9432, Validation Accuracy: 0.9449, Loss: 0.0399\n",
      "Epoch   7 Batch  240/269 - Train Accuracy: 0.9575, Validation Accuracy: 0.9478, Loss: 0.0345\n",
      "Epoch   7 Batch  250/269 - Train Accuracy: 0.9447, Validation Accuracy: 0.9337, Loss: 0.0378\n",
      "Epoch   7 Batch  260/269 - Train Accuracy: 0.9527, Validation Accuracy: 0.9283, Loss: 0.0462\n",
      "Epoch   8 Batch   10/269 - Train Accuracy: 0.9567, Validation Accuracy: 0.9407, Loss: 0.0332\n",
      "Epoch   8 Batch   20/269 - Train Accuracy: 0.9516, Validation Accuracy: 0.9383, Loss: 0.0370\n",
      "Epoch   8 Batch   30/269 - Train Accuracy: 0.9469, Validation Accuracy: 0.9321, Loss: 0.0359\n",
      "Epoch   8 Batch   40/269 - Train Accuracy: 0.9387, Validation Accuracy: 0.9344, Loss: 0.0430\n",
      "Epoch   8 Batch   50/269 - Train Accuracy: 0.9331, Validation Accuracy: 0.9263, Loss: 0.0471\n",
      "Epoch   8 Batch   60/269 - Train Accuracy: 0.9517, Validation Accuracy: 0.9364, Loss: 0.0367\n",
      "Epoch   8 Batch   70/269 - Train Accuracy: 0.9527, Validation Accuracy: 0.9471, Loss: 0.0374\n",
      "Epoch   8 Batch   80/269 - Train Accuracy: 0.9474, Validation Accuracy: 0.9378, Loss: 0.0383\n",
      "Epoch   8 Batch   90/269 - Train Accuracy: 0.9564, Validation Accuracy: 0.9435, Loss: 0.0371\n",
      "Epoch   8 Batch  100/269 - Train Accuracy: 0.9558, Validation Accuracy: 0.9428, Loss: 0.0384\n",
      "Epoch   8 Batch  110/269 - Train Accuracy: 0.9426, Validation Accuracy: 0.9337, Loss: 0.0337\n",
      "Epoch   8 Batch  120/269 - Train Accuracy: 0.9545, Validation Accuracy: 0.9366, Loss: 0.0376\n",
      "Epoch   8 Batch  130/269 - Train Accuracy: 0.9577, Validation Accuracy: 0.9395, Loss: 0.0372\n",
      "Epoch   8 Batch  140/269 - Train Accuracy: 0.9451, Validation Accuracy: 0.9405, Loss: 0.0394\n",
      "Epoch   8 Batch  150/269 - Train Accuracy: 0.9500, Validation Accuracy: 0.9433, Loss: 0.0414\n",
      "Epoch   8 Batch  160/269 - Train Accuracy: 0.9515, Validation Accuracy: 0.9452, Loss: 0.0329\n",
      "Epoch   8 Batch  170/269 - Train Accuracy: 0.9529, Validation Accuracy: 0.9513, Loss: 0.0349\n",
      "Epoch   8 Batch  180/269 - Train Accuracy: 0.9576, Validation Accuracy: 0.9458, Loss: 0.0334\n",
      "Epoch   8 Batch  190/269 - Train Accuracy: 0.9517, Validation Accuracy: 0.9510, Loss: 0.0359\n",
      "Epoch   8 Batch  200/269 - Train Accuracy: 0.9584, Validation Accuracy: 0.9384, Loss: 0.0303\n",
      "Epoch   8 Batch  210/269 - Train Accuracy: 0.9460, Validation Accuracy: 0.9379, Loss: 0.0336\n",
      "Epoch   8 Batch  220/269 - Train Accuracy: 0.9535, Validation Accuracy: 0.9403, Loss: 0.0325\n",
      "Epoch   8 Batch  230/269 - Train Accuracy: 0.9427, Validation Accuracy: 0.9347, Loss: 0.0823\n",
      "Epoch   8 Batch  240/269 - Train Accuracy: 0.9344, Validation Accuracy: 0.9139, Loss: 0.0446\n",
      "Epoch   8 Batch  250/269 - Train Accuracy: 0.7887, Validation Accuracy: 0.7798, Loss: 0.6372\n",
      "Epoch   8 Batch  260/269 - Train Accuracy: 0.7816, Validation Accuracy: 0.7903, Loss: 0.2413\n",
      "Epoch   9 Batch   10/269 - Train Accuracy: 0.9095, Validation Accuracy: 0.8854, Loss: 0.0893\n",
      "Epoch   9 Batch   20/269 - Train Accuracy: 0.9317, Validation Accuracy: 0.9124, Loss: 0.0621\n",
      "Epoch   9 Batch   30/269 - Train Accuracy: 0.9299, Validation Accuracy: 0.9164, Loss: 0.0517\n",
      "Epoch   9 Batch   40/269 - Train Accuracy: 0.9188, Validation Accuracy: 0.9297, Loss: 0.0565\n",
      "Epoch   9 Batch   50/269 - Train Accuracy: 0.9290, Validation Accuracy: 0.9360, Loss: 0.0516\n",
      "Epoch   9 Batch   60/269 - Train Accuracy: 0.9371, Validation Accuracy: 0.9409, Loss: 0.0414\n",
      "Epoch   9 Batch   70/269 - Train Accuracy: 0.9472, Validation Accuracy: 0.9463, Loss: 0.0402\n",
      "Epoch   9 Batch   80/269 - Train Accuracy: 0.9420, Validation Accuracy: 0.9321, Loss: 0.0385\n",
      "Epoch   9 Batch   90/269 - Train Accuracy: 0.9492, Validation Accuracy: 0.9444, Loss: 0.0386\n",
      "Epoch   9 Batch  100/269 - Train Accuracy: 0.9504, Validation Accuracy: 0.9385, Loss: 0.0378\n",
      "Epoch   9 Batch  110/269 - Train Accuracy: 0.9500, Validation Accuracy: 0.9354, Loss: 0.0317\n",
      "Epoch   9 Batch  120/269 - Train Accuracy: 0.9521, Validation Accuracy: 0.9438, Loss: 0.0361\n",
      "Epoch   9 Batch  130/269 - Train Accuracy: 0.9556, Validation Accuracy: 0.9408, Loss: 0.0349\n",
      "Epoch   9 Batch  140/269 - Train Accuracy: 0.9401, Validation Accuracy: 0.9475, Loss: 0.0379\n",
      "Epoch   9 Batch  150/269 - Train Accuracy: 0.9466, Validation Accuracy: 0.9477, Loss: 0.0387\n",
      "Epoch   9 Batch  160/269 - Train Accuracy: 0.9578, Validation Accuracy: 0.9500, Loss: 0.0300\n",
      "Epoch   9 Batch  170/269 - Train Accuracy: 0.9571, Validation Accuracy: 0.9473, Loss: 0.0304\n",
      "Epoch   9 Batch  180/269 - Train Accuracy: 0.9634, Validation Accuracy: 0.9501, Loss: 0.0290\n",
      "Epoch   9 Batch  190/269 - Train Accuracy: 0.9595, Validation Accuracy: 0.9542, Loss: 0.0307\n",
      "Epoch   9 Batch  200/269 - Train Accuracy: 0.9661, Validation Accuracy: 0.9408, Loss: 0.0262\n",
      "Epoch   9 Batch  210/269 - Train Accuracy: 0.9503, Validation Accuracy: 0.9528, Loss: 0.0312\n",
      "Epoch   9 Batch  220/269 - Train Accuracy: 0.9515, Validation Accuracy: 0.9562, Loss: 0.0289\n",
      "Epoch   9 Batch  230/269 - Train Accuracy: 0.9646, Validation Accuracy: 0.9494, Loss: 0.0291\n",
      "Epoch   9 Batch  240/269 - Train Accuracy: 0.9637, Validation Accuracy: 0.9524, Loss: 0.0256\n",
      "Epoch   9 Batch  250/269 - Train Accuracy: 0.9601, Validation Accuracy: 0.9498, Loss: 0.0302\n",
      "Epoch   9 Batch  260/269 - Train Accuracy: 0.9523, Validation Accuracy: 0.9537, Loss: 0.0363\n",
      "Model Trained and Saved\n"
     ]
    }
   ],
   "source": [
    "\"\"\"\n",
    "DON'T MODIFY ANYTHING IN THIS CELL\n",
    "\"\"\"\n",
    "def get_accuracy(target, logits):\n",
    "    \"\"\"\n",
    "    Calculate accuracy\n",
    "    \"\"\"\n",
    "    max_seq = max(target.shape[1], logits.shape[1])\n",
    "    if max_seq - target.shape[1]:\n",
    "        target = np.pad(\n",
    "            target,\n",
    "            [(0,0),(0,max_seq - target.shape[1])],\n",
    "            'constant')\n",
    "    if max_seq - logits.shape[1]:\n",
    "        logits = np.pad(\n",
    "            logits,\n",
    "            [(0,0),(0,max_seq - logits.shape[1])],\n",
    "            'constant')\n",
    "\n",
    "    return np.mean(np.equal(target, logits))\n",
    "\n",
    "# Split data to training and validation sets\n",
    "train_source = source_int_text[batch_size:]\n",
    "train_target = target_int_text[batch_size:]\n",
    "valid_source = source_int_text[:batch_size]\n",
    "valid_target = target_int_text[:batch_size]\n",
    "(valid_sources_batch, valid_targets_batch, valid_sources_lengths, valid_targets_lengths ) = next(get_batches(valid_source,\n",
    "                                                                                                             valid_target,\n",
    "                                                                                                             batch_size,\n",
    "                                                                                                             source_vocab_to_int['<PAD>'],\n",
    "                                                                                                             target_vocab_to_int['<PAD>']))                                                                                                  \n",
    "with tf.Session(graph=train_graph) as sess:\n",
    "    sess.run(tf.global_variables_initializer())\n",
    "\n",
    "    for epoch_i in range(epochs):\n",
    "        for batch_i, (source_batch, target_batch, sources_lengths, targets_lengths) in enumerate(\n",
    "                get_batches(train_source, train_target, batch_size,\n",
    "                            source_vocab_to_int['<PAD>'],\n",
    "                            target_vocab_to_int['<PAD>'])):\n",
    "\n",
    "            _, loss = sess.run(\n",
    "                [train_op, cost],\n",
    "                {input_data: source_batch,\n",
    "                 targets: target_batch,\n",
    "                 lr: learning_rate,\n",
    "                 target_sequence_length: targets_lengths,\n",
    "                 source_sequence_length: sources_lengths,\n",
    "                 keep_prob: keep_probability})\n",
    "\n",
    "\n",
    "            if batch_i % display_step == 0 and batch_i > 0:\n",
    "\n",
    "\n",
    "                batch_train_logits = sess.run(\n",
    "                    inference_logits,\n",
    "                    {input_data: source_batch,\n",
    "                     source_sequence_length: sources_lengths,\n",
    "                     target_sequence_length: targets_lengths,\n",
    "                     keep_prob: 1.0})\n",
    "\n",
    "\n",
    "                batch_valid_logits = sess.run(\n",
    "                    inference_logits,\n",
    "                    {input_data: valid_sources_batch,\n",
    "                     source_sequence_length: valid_sources_lengths,\n",
    "                     target_sequence_length: valid_targets_lengths,\n",
    "                     keep_prob: 1.0})\n",
    "\n",
    "                train_acc = get_accuracy(target_batch, batch_train_logits)\n",
    "\n",
    "                valid_acc = get_accuracy(valid_targets_batch, batch_valid_logits)\n",
    "\n",
    "                print('Epoch {:>3} Batch {:>4}/{} - Train Accuracy: {:>6.4f}, Validation Accuracy: {:>6.4f}, Loss: {:>6.4f}'\n",
    "                      .format(epoch_i, batch_i, len(source_int_text) // batch_size, train_acc, valid_acc, loss))\n",
    "\n",
    "    # Save Model\n",
    "    saver = tf.train.Saver()\n",
    "    saver.save(sess, save_path)\n",
    "    print('Model Trained and Saved')"
   ]
  },
  {
   "cell_type": "markdown",
   "metadata": {},
   "source": [
    "### Save Parameters\n",
    "Save the `batch_size` and `save_path` parameters for inference."
   ]
  },
  {
   "cell_type": "code",
   "execution_count": 19,
   "metadata": {
    "collapsed": true
   },
   "outputs": [],
   "source": [
    "\"\"\"\n",
    "DON'T MODIFY ANYTHING IN THIS CELL\n",
    "\"\"\"\n",
    "# Save parameters for checkpoint\n",
    "helper.save_params(save_path)"
   ]
  },
  {
   "cell_type": "markdown",
   "metadata": {},
   "source": [
    "# Checkpoint"
   ]
  },
  {
   "cell_type": "code",
   "execution_count": 20,
   "metadata": {
    "collapsed": true
   },
   "outputs": [],
   "source": [
    "\"\"\"\n",
    "DON'T MODIFY ANYTHING IN THIS CELL\n",
    "\"\"\"\n",
    "import tensorflow as tf\n",
    "import numpy as np\n",
    "import helper\n",
    "import problem_unittests as tests\n",
    "\n",
    "_, (source_vocab_to_int, target_vocab_to_int), (source_int_to_vocab, target_int_to_vocab) = helper.load_preprocess()\n",
    "load_path = helper.load_params()"
   ]
  },
  {
   "cell_type": "markdown",
   "metadata": {},
   "source": [
    "## Sentence to Sequence\n",
    "To feed a sentence into the model for translation, you first need to preprocess it.  Implement the function `sentence_to_seq()` to preprocess new sentences.\n",
    "\n",
    "- Convert the sentence to lowercase\n",
    "- Convert words into ids using `vocab_to_int`\n",
    " - Convert words not in the vocabulary, to the `<UNK>` word id."
   ]
  },
  {
   "cell_type": "code",
   "execution_count": 21,
   "metadata": {},
   "outputs": [
    {
     "name": "stdout",
     "output_type": "stream",
     "text": [
      "Tests Passed\n"
     ]
    }
   ],
   "source": [
    "def sentence_to_seq(sentence, vocab_to_int):\n",
    "    \"\"\"\n",
    "    Convert a sentence to a sequence of ids\n",
    "    :param sentence: String\n",
    "    :param vocab_to_int: Dictionary to go from the words to an id\n",
    "    :return: List of word ids\n",
    "    \"\"\"\n",
    "    # TODO: Implement Function\n",
    "    #print(sentence)\n",
    "    #print(vocab_to_int)\n",
    "    word_ids = []\n",
    "    for word in sentence.split(' '):\n",
    "        try:\n",
    "            word_ids.append(vocab_to_int[word])\n",
    "        except:\n",
    "            word_ids.append(vocab_to_int['<UNK>'])\n",
    "    return word_ids\n",
    "\n",
    "\n",
    "\"\"\"\n",
    "DON'T MODIFY ANYTHING IN THIS CELL THAT IS BELOW THIS LINE\n",
    "\"\"\"\n",
    "tests.test_sentence_to_seq(sentence_to_seq)"
   ]
  },
  {
   "cell_type": "markdown",
   "metadata": {},
   "source": [
    "## Translate\n",
    "This will translate `translate_sentence` from English to French."
   ]
  },
  {
   "cell_type": "code",
   "execution_count": 23,
   "metadata": {},
   "outputs": [
    {
     "name": "stdout",
     "output_type": "stream",
     "text": [
      "INFO:tensorflow:Restoring parameters from checkpoints/dev\n",
      "Input\n",
      "  Word Ids:      [126, 23, 190, 82, 158, 27, 113]\n",
      "  English Words: ['he', 'saw', 'a', 'old', 'yellow', 'truck', '.']\n",
      "\n",
      "Prediction\n",
      "  Word Ids:      [252, 156, 139, 135, 4, 30, 121, 220, 1]\n",
      "  French Words: il a vu un camion noir rouillé . <EOS>\n"
     ]
    }
   ],
   "source": [
    "translate_sentence = 'he saw a old yellow truck .'\n",
    "\n",
    "\n",
    "\"\"\"\n",
    "DON'T MODIFY ANYTHING IN THIS CELL\n",
    "\"\"\"\n",
    "translate_sentence = sentence_to_seq(translate_sentence, source_vocab_to_int)\n",
    "\n",
    "loaded_graph = tf.Graph()\n",
    "with tf.Session(graph=loaded_graph) as sess:\n",
    "    # Load saved model\n",
    "    loader = tf.train.import_meta_graph(load_path + '.meta')\n",
    "    loader.restore(sess, load_path)\n",
    "\n",
    "    input_data = loaded_graph.get_tensor_by_name('input:0')\n",
    "    logits = loaded_graph.get_tensor_by_name('predictions:0')\n",
    "    target_sequence_length = loaded_graph.get_tensor_by_name('target_sequence_length:0')\n",
    "    source_sequence_length = loaded_graph.get_tensor_by_name('source_sequence_length:0')\n",
    "    keep_prob = loaded_graph.get_tensor_by_name('keep_prob:0')\n",
    "\n",
    "    translate_logits = sess.run(logits, {input_data: [translate_sentence]*batch_size,\n",
    "                                         target_sequence_length: [len(translate_sentence)*2]*batch_size,\n",
    "                                         source_sequence_length: [len(translate_sentence)]*batch_size,\n",
    "                                         keep_prob: 1.0})[0]\n",
    "\n",
    "print('Input')\n",
    "print('  Word Ids:      {}'.format([i for i in translate_sentence]))\n",
    "print('  English Words: {}'.format([source_int_to_vocab[i] for i in translate_sentence]))\n",
    "\n",
    "print('\\nPrediction')\n",
    "print('  Word Ids:      {}'.format([i for i in translate_logits]))\n",
    "print('  French Words: {}'.format(\" \".join([target_int_to_vocab[i] for i in translate_logits])))\n"
   ]
  },
  {
   "cell_type": "markdown",
   "metadata": {},
   "source": [
    "## Imperfect Translation\n",
    "You might notice that some sentences translate better than others.  Since the dataset you're using only has a vocabulary of 227 English words of the thousands that you use, you're only going to see good results using these words.  For this project, you don't need a perfect translation. However, if you want to create a better translation model, you'll need better data.\n",
    "\n",
    "You can train on the [WMT10 French-English corpus](http://www.statmt.org/wmt10/training-giga-fren.tar).  This dataset has more vocabulary and richer in topics discussed.  However, this will take you days to train, so make sure you've a GPU and the neural network is performing well on dataset we provided.  Just make sure you play with the WMT10 corpus after you've submitted this project.\n",
    "## Submitting This Project\n",
    "When submitting this project, make sure to run all the cells before saving the notebook. Save the notebook file as \"dlnd_language_translation.ipynb\" and save it as a HTML file under \"File\" -> \"Download as\". Include the \"helper.py\" and \"problem_unittests.py\" files in your submission."
   ]
  }
 ],
 "metadata": {
  "anaconda-cloud": {},
  "kernelspec": {
   "display_name": "Python 3",
   "language": "python",
   "name": "python3"
  },
  "language_info": {
   "codemirror_mode": {
    "name": "ipython",
    "version": 3
   },
   "file_extension": ".py",
   "mimetype": "text/x-python",
   "name": "python",
   "nbconvert_exporter": "python",
   "pygments_lexer": "ipython3",
   "version": "3.5.4"
  }
 },
 "nbformat": 4,
 "nbformat_minor": 1
}
